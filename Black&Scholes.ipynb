{
 "cells": [
  {
   "cell_type": "markdown",
   "metadata": {},
   "source": [
    "#### Black&Scholes:"
   ]
  },
  {
   "cell_type": "markdown",
   "metadata": {},
   "source": [
    "S0 = underlying price \n",
    "\n",
    "X = strike price \n",
    "\n",
    "std = standard deviation \n",
    "\n",
    "r = continuously compounded risk-free interest rate \n",
    "\n",
    "T = time to expiration "
   ]
  },
  {
   "cell_type": "markdown",
   "metadata": {},
   "source": [
    "## Non-Dividend Paying Formula"
   ]
  },
  {
   "cell_type": "code",
   "execution_count": 28,
   "metadata": {
    "scrolled": true
   },
   "outputs": [],
   "source": [
    "import numpy as np\n",
    "from scipy import stats"
   ]
  },
  {
   "cell_type": "code",
   "execution_count": 32,
   "metadata": {},
   "outputs": [],
   "source": [
    "def eur_opt(S_0,std,r,X,T,option):\n",
    "    d1=(np.log(S_0/X)+(r+std/2)*T)/std*np.sqrt(T)\n",
    "    d2=(np.log(S_0/X)+(r-std/2)*T)/std*np.sqrt(T)\n",
    "    if option == 'call':\n",
    "        result = S_0*stats.norm.cdf(d1, 0.0, 1.0)-X*np.exp(-r*T)*stats.norm.cdf(d2, 0.0, 1.0)\n",
    "    if option == 'put':\n",
    "        result = X*np.exp(-r*T)*stats.norm.cdf(-d2, 0.0, 1.0)-S_0*stats.norm.cdf(-d1, 0.0, 1.0)\n",
    "        \n",
    "    return result"
   ]
  },
  {
   "cell_type": "markdown",
   "metadata": {},
   "source": [
    "## Dividend Paying Formula"
   ]
  },
  {
   "cell_type": "markdown",
   "metadata": {},
   "source": [
    "For divident paying option, I will a variable \"d\" that stands for the dividend rate of the asset. \"d\" is assumed to pay dividends at a continuous rate."
   ]
  },
  {
   "cell_type": "code",
   "execution_count": 36,
   "metadata": {},
   "outputs": [],
   "source": [
    "def eur_div_opt(S_0,std,r,X,T,option):\n",
    "    d1=(np.log(S_0/X)+(r-d+std/2)*T)/std*np.sqrt(T)\n",
    "    d2=(np.log(S_0/X)+(r-d-std/2)*T)/std*np.sqrt(T)\n",
    "    if option == 'call':\n",
    "        result = S_0*stats.norm.cdf(d1, 0.0, 1.0)-X*np.exp(-r*T)*stats.norm.cdf(d2, 0.0, 1.0)\n",
    "    if option == 'put':\n",
    "        result = X*np.exp(-r*T)*stats.norm.cdf(-d2, 0.0, 1.0)-S_0*stats.norm.cdf(-d1, 0.0, 1.0)\n",
    "    \n",
    "    return result"
   ]
  }
 ],
 "metadata": {
  "kernelspec": {
   "display_name": "Python 3",
   "language": "python",
   "name": "python3"
  },
  "language_info": {
   "codemirror_mode": {
    "name": "ipython",
    "version": 3
   },
   "file_extension": ".py",
   "mimetype": "text/x-python",
   "name": "python",
   "nbconvert_exporter": "python",
   "pygments_lexer": "ipython3",
   "version": "3.8.5"
  }
 },
 "nbformat": 4,
 "nbformat_minor": 4
}
