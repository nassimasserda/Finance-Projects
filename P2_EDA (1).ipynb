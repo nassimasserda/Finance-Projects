{
 "cells": [
  {
   "cell_type": "markdown",
   "metadata": {},
   "source": [
    "# CLEANING"
   ]
  },
  {
   "cell_type": "code",
   "execution_count": 2,
   "metadata": {},
   "outputs": [],
   "source": [
    "import numpy as np\n",
    "import pandas as pd\n",
    "from matplotlib import pyplot as plt\n",
    "from sklearn.decomposition import PCA\n",
    "from sklearn import preprocessing\n",
    "import random as rd\n",
    "import seaborn as sns\n",
    "%matplotlib inline"
   ]
  },
  {
   "cell_type": "code",
   "execution_count": 3,
   "metadata": {},
   "outputs": [],
   "source": [
    "with open(\"openfoodfactsproducts.csv\",\"r\", encoding=\"utf8\")as f1:\n",
    "    with open(\"mini.csv\",\"w\", encoding=\"utf8\") as f2:\n",
    "        for i in range(10000):\n",
    "            line=f1.readline()    \n",
    "            f2.write(line)"
   ]
  },
  {
   "cell_type": "code",
   "execution_count": 4,
   "metadata": {},
   "outputs": [
    {
     "name": "stderr",
     "output_type": "stream",
     "text": [
      "C:\\Users\\DELL\\anaconda3\\lib\\site-packages\\IPython\\core\\interactiveshell.py:3146: DtypeWarning: Columns (0,13,27,28,29,31,52) have mixed types.Specify dtype option on import or set low_memory=False.\n",
      "  has_raised = await self.run_ast_nodes(code_ast.body, cell_name,\n"
     ]
    }
   ],
   "source": [
    "df=pd.read_csv(\"mini.csv\", sep=\"\\t\", na_values=\"NaN\")\n"
   ]
  },
  {
   "cell_type": "code",
   "execution_count": 5,
   "metadata": {},
   "outputs": [
    {
     "data": {
      "text/plain": [
       "(9999, 184)"
      ]
     },
     "execution_count": 5,
     "metadata": {},
     "output_type": "execute_result"
    }
   ],
   "source": [
    "df.shape"
   ]
  },
  {
   "cell_type": "markdown",
   "metadata": {},
   "source": [
    "Je fais une description du dataset pour avoir une vision d'ensemble:"
   ]
  },
  {
   "cell_type": "code",
   "execution_count": 6,
   "metadata": {},
   "outputs": [
    {
     "data": {
      "text/html": [
       "<div>\n",
       "<style scoped>\n",
       "    .dataframe tbody tr th:only-of-type {\n",
       "        vertical-align: middle;\n",
       "    }\n",
       "\n",
       "    .dataframe tbody tr th {\n",
       "        vertical-align: top;\n",
       "    }\n",
       "\n",
       "    .dataframe thead th {\n",
       "        text-align: right;\n",
       "    }\n",
       "</style>\n",
       "<table border=\"1\" class=\"dataframe\">\n",
       "  <thead>\n",
       "    <tr style=\"text-align: right;\">\n",
       "      <th></th>\n",
       "      <th>created_t</th>\n",
       "      <th>last_modified_t</th>\n",
       "      <th>abbreviated_product_name</th>\n",
       "      <th>cities</th>\n",
       "      <th>allergens_en</th>\n",
       "      <th>serving_quantity</th>\n",
       "      <th>no_nutriments</th>\n",
       "      <th>additives_n</th>\n",
       "      <th>additives</th>\n",
       "      <th>ingredients_from_palm_oil_n</th>\n",
       "      <th>...</th>\n",
       "      <th>carbon-footprint-from-meat-or-fish_100g</th>\n",
       "      <th>nutrition-score-fr_100g</th>\n",
       "      <th>nutrition-score-uk_100g</th>\n",
       "      <th>glycemic-index_100g</th>\n",
       "      <th>water-hardness_100g</th>\n",
       "      <th>choline_100g</th>\n",
       "      <th>phylloquinone_100g</th>\n",
       "      <th>beta-glucan_100g</th>\n",
       "      <th>inositol_100g</th>\n",
       "      <th>carnitine_100g</th>\n",
       "    </tr>\n",
       "  </thead>\n",
       "  <tbody>\n",
       "    <tr>\n",
       "      <th>count</th>\n",
       "      <td>9.999000e+03</td>\n",
       "      <td>9.999000e+03</td>\n",
       "      <td>0.0</td>\n",
       "      <td>0.0</td>\n",
       "      <td>0.0</td>\n",
       "      <td>6828.000000</td>\n",
       "      <td>0.0</td>\n",
       "      <td>7229.000000</td>\n",
       "      <td>0.0</td>\n",
       "      <td>7229.000000</td>\n",
       "      <td>...</td>\n",
       "      <td>23.000000</td>\n",
       "      <td>5038.000000</td>\n",
       "      <td>0.0</td>\n",
       "      <td>0.0</td>\n",
       "      <td>0.0</td>\n",
       "      <td>0.0</td>\n",
       "      <td>61.000000</td>\n",
       "      <td>0.0</td>\n",
       "      <td>0.0</td>\n",
       "      <td>0.0</td>\n",
       "    </tr>\n",
       "    <tr>\n",
       "      <th>mean</th>\n",
       "      <td>1.533382e+09</td>\n",
       "      <td>1.580698e+09</td>\n",
       "      <td>NaN</td>\n",
       "      <td>NaN</td>\n",
       "      <td>NaN</td>\n",
       "      <td>77.026943</td>\n",
       "      <td>NaN</td>\n",
       "      <td>3.089639</td>\n",
       "      <td>NaN</td>\n",
       "      <td>0.003873</td>\n",
       "      <td>...</td>\n",
       "      <td>619.469565</td>\n",
       "      <td>9.935887</td>\n",
       "      <td>NaN</td>\n",
       "      <td>NaN</td>\n",
       "      <td>NaN</td>\n",
       "      <td>NaN</td>\n",
       "      <td>0.000017</td>\n",
       "      <td>NaN</td>\n",
       "      <td>NaN</td>\n",
       "      <td>NaN</td>\n",
       "    </tr>\n",
       "    <tr>\n",
       "      <th>std</th>\n",
       "      <td>4.993390e+07</td>\n",
       "      <td>2.685472e+07</td>\n",
       "      <td>NaN</td>\n",
       "      <td>NaN</td>\n",
       "      <td>NaN</td>\n",
       "      <td>85.392142</td>\n",
       "      <td>NaN</td>\n",
       "      <td>4.151561</td>\n",
       "      <td>NaN</td>\n",
       "      <td>0.062119</td>\n",
       "      <td>...</td>\n",
       "      <td>734.270308</td>\n",
       "      <td>9.653931</td>\n",
       "      <td>NaN</td>\n",
       "      <td>NaN</td>\n",
       "      <td>NaN</td>\n",
       "      <td>NaN</td>\n",
       "      <td>0.000018</td>\n",
       "      <td>NaN</td>\n",
       "      <td>NaN</td>\n",
       "      <td>NaN</td>\n",
       "    </tr>\n",
       "    <tr>\n",
       "      <th>min</th>\n",
       "      <td>1.345024e+09</td>\n",
       "      <td>1.419618e+09</td>\n",
       "      <td>NaN</td>\n",
       "      <td>NaN</td>\n",
       "      <td>NaN</td>\n",
       "      <td>0.000000</td>\n",
       "      <td>NaN</td>\n",
       "      <td>0.000000</td>\n",
       "      <td>NaN</td>\n",
       "      <td>0.000000</td>\n",
       "      <td>...</td>\n",
       "      <td>78.760000</td>\n",
       "      <td>-14.000000</td>\n",
       "      <td>NaN</td>\n",
       "      <td>NaN</td>\n",
       "      <td>NaN</td>\n",
       "      <td>NaN</td>\n",
       "      <td>0.000006</td>\n",
       "      <td>NaN</td>\n",
       "      <td>NaN</td>\n",
       "      <td>NaN</td>\n",
       "    </tr>\n",
       "    <tr>\n",
       "      <th>25%</th>\n",
       "      <td>1.489069e+09</td>\n",
       "      <td>1.583821e+09</td>\n",
       "      <td>NaN</td>\n",
       "      <td>NaN</td>\n",
       "      <td>NaN</td>\n",
       "      <td>28.000000</td>\n",
       "      <td>NaN</td>\n",
       "      <td>0.000000</td>\n",
       "      <td>NaN</td>\n",
       "      <td>0.000000</td>\n",
       "      <td>...</td>\n",
       "      <td>194.325000</td>\n",
       "      <td>1.000000</td>\n",
       "      <td>NaN</td>\n",
       "      <td>NaN</td>\n",
       "      <td>NaN</td>\n",
       "      <td>NaN</td>\n",
       "      <td>0.000006</td>\n",
       "      <td>NaN</td>\n",
       "      <td>NaN</td>\n",
       "      <td>NaN</td>\n",
       "    </tr>\n",
       "    <tr>\n",
       "      <th>50%</th>\n",
       "      <td>1.518969e+09</td>\n",
       "      <td>1.587589e+09</td>\n",
       "      <td>NaN</td>\n",
       "      <td>NaN</td>\n",
       "      <td>NaN</td>\n",
       "      <td>40.000000</td>\n",
       "      <td>NaN</td>\n",
       "      <td>2.000000</td>\n",
       "      <td>NaN</td>\n",
       "      <td>0.000000</td>\n",
       "      <td>...</td>\n",
       "      <td>475.790000</td>\n",
       "      <td>11.000000</td>\n",
       "      <td>NaN</td>\n",
       "      <td>NaN</td>\n",
       "      <td>NaN</td>\n",
       "      <td>NaN</td>\n",
       "      <td>0.000006</td>\n",
       "      <td>NaN</td>\n",
       "      <td>NaN</td>\n",
       "      <td>NaN</td>\n",
       "    </tr>\n",
       "    <tr>\n",
       "      <th>75%</th>\n",
       "      <td>1.587648e+09</td>\n",
       "      <td>1.587668e+09</td>\n",
       "      <td>NaN</td>\n",
       "      <td>NaN</td>\n",
       "      <td>NaN</td>\n",
       "      <td>100.000000</td>\n",
       "      <td>NaN</td>\n",
       "      <td>5.000000</td>\n",
       "      <td>NaN</td>\n",
       "      <td>0.000000</td>\n",
       "      <td>...</td>\n",
       "      <td>660.745000</td>\n",
       "      <td>18.000000</td>\n",
       "      <td>NaN</td>\n",
       "      <td>NaN</td>\n",
       "      <td>NaN</td>\n",
       "      <td>NaN</td>\n",
       "      <td>0.000018</td>\n",
       "      <td>NaN</td>\n",
       "      <td>NaN</td>\n",
       "      <td>NaN</td>\n",
       "    </tr>\n",
       "    <tr>\n",
       "      <th>max</th>\n",
       "      <td>1.617218e+09</td>\n",
       "      <td>1.617219e+09</td>\n",
       "      <td>NaN</td>\n",
       "      <td>NaN</td>\n",
       "      <td>NaN</td>\n",
       "      <td>1077.281879</td>\n",
       "      <td>NaN</td>\n",
       "      <td>33.000000</td>\n",
       "      <td>NaN</td>\n",
       "      <td>1.000000</td>\n",
       "      <td>...</td>\n",
       "      <td>3580.000000</td>\n",
       "      <td>36.000000</td>\n",
       "      <td>NaN</td>\n",
       "      <td>NaN</td>\n",
       "      <td>NaN</td>\n",
       "      <td>NaN</td>\n",
       "      <td>0.000077</td>\n",
       "      <td>NaN</td>\n",
       "      <td>NaN</td>\n",
       "      <td>NaN</td>\n",
       "    </tr>\n",
       "  </tbody>\n",
       "</table>\n",
       "<p>8 rows × 126 columns</p>\n",
       "</div>"
      ],
      "text/plain": [
       "          created_t  last_modified_t  abbreviated_product_name  cities  \\\n",
       "count  9.999000e+03     9.999000e+03                       0.0     0.0   \n",
       "mean   1.533382e+09     1.580698e+09                       NaN     NaN   \n",
       "std    4.993390e+07     2.685472e+07                       NaN     NaN   \n",
       "min    1.345024e+09     1.419618e+09                       NaN     NaN   \n",
       "25%    1.489069e+09     1.583821e+09                       NaN     NaN   \n",
       "50%    1.518969e+09     1.587589e+09                       NaN     NaN   \n",
       "75%    1.587648e+09     1.587668e+09                       NaN     NaN   \n",
       "max    1.617218e+09     1.617219e+09                       NaN     NaN   \n",
       "\n",
       "       allergens_en  serving_quantity  no_nutriments  additives_n  additives  \\\n",
       "count           0.0       6828.000000            0.0  7229.000000        0.0   \n",
       "mean            NaN         77.026943            NaN     3.089639        NaN   \n",
       "std             NaN         85.392142            NaN     4.151561        NaN   \n",
       "min             NaN          0.000000            NaN     0.000000        NaN   \n",
       "25%             NaN         28.000000            NaN     0.000000        NaN   \n",
       "50%             NaN         40.000000            NaN     2.000000        NaN   \n",
       "75%             NaN        100.000000            NaN     5.000000        NaN   \n",
       "max             NaN       1077.281879            NaN    33.000000        NaN   \n",
       "\n",
       "       ingredients_from_palm_oil_n  ...  \\\n",
       "count                  7229.000000  ...   \n",
       "mean                      0.003873  ...   \n",
       "std                       0.062119  ...   \n",
       "min                       0.000000  ...   \n",
       "25%                       0.000000  ...   \n",
       "50%                       0.000000  ...   \n",
       "75%                       0.000000  ...   \n",
       "max                       1.000000  ...   \n",
       "\n",
       "       carbon-footprint-from-meat-or-fish_100g  nutrition-score-fr_100g  \\\n",
       "count                                23.000000              5038.000000   \n",
       "mean                                619.469565                 9.935887   \n",
       "std                                 734.270308                 9.653931   \n",
       "min                                  78.760000               -14.000000   \n",
       "25%                                 194.325000                 1.000000   \n",
       "50%                                 475.790000                11.000000   \n",
       "75%                                 660.745000                18.000000   \n",
       "max                                3580.000000                36.000000   \n",
       "\n",
       "       nutrition-score-uk_100g  glycemic-index_100g  water-hardness_100g  \\\n",
       "count                      0.0                  0.0                  0.0   \n",
       "mean                       NaN                  NaN                  NaN   \n",
       "std                        NaN                  NaN                  NaN   \n",
       "min                        NaN                  NaN                  NaN   \n",
       "25%                        NaN                  NaN                  NaN   \n",
       "50%                        NaN                  NaN                  NaN   \n",
       "75%                        NaN                  NaN                  NaN   \n",
       "max                        NaN                  NaN                  NaN   \n",
       "\n",
       "       choline_100g  phylloquinone_100g  beta-glucan_100g  inositol_100g  \\\n",
       "count           0.0           61.000000               0.0            0.0   \n",
       "mean            NaN            0.000017               NaN            NaN   \n",
       "std             NaN            0.000018               NaN            NaN   \n",
       "min             NaN            0.000006               NaN            NaN   \n",
       "25%             NaN            0.000006               NaN            NaN   \n",
       "50%             NaN            0.000006               NaN            NaN   \n",
       "75%             NaN            0.000018               NaN            NaN   \n",
       "max             NaN            0.000077               NaN            NaN   \n",
       "\n",
       "       carnitine_100g  \n",
       "count             0.0  \n",
       "mean              NaN  \n",
       "std               NaN  \n",
       "min               NaN  \n",
       "25%               NaN  \n",
       "50%               NaN  \n",
       "75%               NaN  \n",
       "max               NaN  \n",
       "\n",
       "[8 rows x 126 columns]"
      ]
     },
     "execution_count": 6,
     "metadata": {},
     "output_type": "execute_result"
    }
   ],
   "source": [
    "df.describe()"
   ]
  },
  {
   "cell_type": "markdown",
   "metadata": {},
   "source": [
    "### Affichage des colonnes"
   ]
  },
  {
   "cell_type": "code",
   "execution_count": 7,
   "metadata": {},
   "outputs": [
    {
     "data": {
      "text/html": [
       "<div>\n",
       "<style scoped>\n",
       "    .dataframe tbody tr th:only-of-type {\n",
       "        vertical-align: middle;\n",
       "    }\n",
       "\n",
       "    .dataframe tbody tr th {\n",
       "        vertical-align: top;\n",
       "    }\n",
       "\n",
       "    .dataframe thead th {\n",
       "        text-align: right;\n",
       "    }\n",
       "</style>\n",
       "<table border=\"1\" class=\"dataframe\">\n",
       "  <thead>\n",
       "    <tr style=\"text-align: right;\">\n",
       "      <th></th>\n",
       "      <th>0</th>\n",
       "    </tr>\n",
       "  </thead>\n",
       "  <tbody>\n",
       "    <tr>\n",
       "      <th>156</th>\n",
       "      <td>zinc_100g</td>\n",
       "    </tr>\n",
       "    <tr>\n",
       "      <th>178</th>\n",
       "      <td>water-hardness_100g</td>\n",
       "    </tr>\n",
       "    <tr>\n",
       "      <th>141</th>\n",
       "      <td>vitamin-pp_100g</td>\n",
       "    </tr>\n",
       "    <tr>\n",
       "      <th>137</th>\n",
       "      <td>vitamin-k_100g</td>\n",
       "    </tr>\n",
       "    <tr>\n",
       "      <th>136</th>\n",
       "      <td>vitamin-e_100g</td>\n",
       "    </tr>\n",
       "    <tr>\n",
       "      <th>135</th>\n",
       "      <td>vitamin-d_100g</td>\n",
       "    </tr>\n",
       "    <tr>\n",
       "      <th>138</th>\n",
       "      <td>vitamin-c_100g</td>\n",
       "    </tr>\n",
       "    <tr>\n",
       "      <th>143</th>\n",
       "      <td>vitamin-b9_100g</td>\n",
       "    </tr>\n",
       "    <tr>\n",
       "      <th>142</th>\n",
       "      <td>vitamin-b6_100g</td>\n",
       "    </tr>\n",
       "    <tr>\n",
       "      <th>140</th>\n",
       "      <td>vitamin-b2_100g</td>\n",
       "    </tr>\n",
       "    <tr>\n",
       "      <th>139</th>\n",
       "      <td>vitamin-b1_100g</td>\n",
       "    </tr>\n",
       "    <tr>\n",
       "      <th>145</th>\n",
       "      <td>vitamin-b12_100g</td>\n",
       "    </tr>\n",
       "    <tr>\n",
       "      <th>133</th>\n",
       "      <td>vitamin-a_100g</td>\n",
       "    </tr>\n",
       "    <tr>\n",
       "      <th>1</th>\n",
       "      <td>url</td>\n",
       "    </tr>\n",
       "    <tr>\n",
       "      <th>111</th>\n",
       "      <td>trans-fat_100g</td>\n",
       "    </tr>\n",
       "    <tr>\n",
       "      <th>41</th>\n",
       "      <td>traces_tags</td>\n",
       "    </tr>\n",
       "    <tr>\n",
       "      <th>42</th>\n",
       "      <td>traces_en</td>\n",
       "    </tr>\n",
       "    <tr>\n",
       "      <th>40</th>\n",
       "      <td>traces</td>\n",
       "    </tr>\n",
       "    <tr>\n",
       "      <th>165</th>\n",
       "      <td>taurine_100g</td>\n",
       "    </tr>\n",
       "    <tr>\n",
       "      <th>114</th>\n",
       "      <td>sugars_100g</td>\n",
       "    </tr>\n",
       "    <tr>\n",
       "      <th>33</th>\n",
       "      <td>stores</td>\n",
       "    </tr>\n",
       "    <tr>\n",
       "      <th>62</th>\n",
       "      <td>states_tags</td>\n",
       "    </tr>\n",
       "    <tr>\n",
       "      <th>63</th>\n",
       "      <td>states_en</td>\n",
       "    </tr>\n",
       "    <tr>\n",
       "      <th>61</th>\n",
       "      <td>states</td>\n",
       "    </tr>\n",
       "    <tr>\n",
       "      <th>121</th>\n",
       "      <td>starch_100g</td>\n",
       "    </tr>\n",
       "    <tr>\n",
       "      <th>131</th>\n",
       "      <td>sodium_100g</td>\n",
       "    </tr>\n",
       "    <tr>\n",
       "      <th>148</th>\n",
       "      <td>silica_100g</td>\n",
       "    </tr>\n",
       "    <tr>\n",
       "      <th>43</th>\n",
       "      <td>serving_size</td>\n",
       "    </tr>\n",
       "    <tr>\n",
       "      <th>44</th>\n",
       "      <td>serving_quantity</td>\n",
       "    </tr>\n",
       "    <tr>\n",
       "      <th>128</th>\n",
       "      <td>serum-proteins_100g</td>\n",
       "    </tr>\n",
       "    <tr>\n",
       "      <th>160</th>\n",
       "      <td>selenium_100g</td>\n",
       "    </tr>\n",
       "    <tr>\n",
       "      <th>78</th>\n",
       "      <td>saturated-fat_100g</td>\n",
       "    </tr>\n",
       "    <tr>\n",
       "      <th>130</th>\n",
       "      <td>salt_100g</td>\n",
       "    </tr>\n",
       "    <tr>\n",
       "      <th>10</th>\n",
       "      <td>quantity</td>\n",
       "    </tr>\n",
       "    <tr>\n",
       "      <th>32</th>\n",
       "      <td>purchase_places</td>\n",
       "    </tr>\n",
       "    <tr>\n",
       "      <th>126</th>\n",
       "      <td>proteins_100g</td>\n",
       "    </tr>\n",
       "    <tr>\n",
       "      <th>7</th>\n",
       "      <td>product_name</td>\n",
       "    </tr>\n",
       "    <tr>\n",
       "      <th>150</th>\n",
       "      <td>potassium_100g</td>\n",
       "    </tr>\n",
       "    <tr>\n",
       "      <th>94</th>\n",
       "      <td>polyunsaturated-fat_100g</td>\n",
       "    </tr>\n",
       "    <tr>\n",
       "      <th>122</th>\n",
       "      <td>polyols_100g</td>\n",
       "    </tr>\n",
       "    <tr>\n",
       "      <th>60</th>\n",
       "      <td>pnns_groups_2</td>\n",
       "    </tr>\n",
       "    <tr>\n",
       "      <th>59</th>\n",
       "      <td>pnns_groups_1</td>\n",
       "    </tr>\n",
       "    <tr>\n",
       "      <th>180</th>\n",
       "      <td>phylloquinone_100g</td>\n",
       "    </tr>\n",
       "    <tr>\n",
       "      <th>153</th>\n",
       "      <td>phosphorus_100g</td>\n",
       "    </tr>\n",
       "    <tr>\n",
       "      <th>166</th>\n",
       "      <td>ph_100g</td>\n",
       "    </tr>\n",
       "    <tr>\n",
       "      <th>147</th>\n",
       "      <td>pantothenic-acid_100g</td>\n",
       "    </tr>\n",
       "    <tr>\n",
       "      <th>13</th>\n",
       "      <td>packaging_text</td>\n",
       "    </tr>\n",
       "    <tr>\n",
       "      <th>12</th>\n",
       "      <td>packaging_tags</td>\n",
       "    </tr>\n",
       "    <tr>\n",
       "      <th>11</th>\n",
       "      <td>packaging</td>\n",
       "    </tr>\n",
       "    <tr>\n",
       "      <th>20</th>\n",
       "      <td>origins_tags</td>\n",
       "    </tr>\n",
       "    <tr>\n",
       "      <th>21</th>\n",
       "      <td>origins_en</td>\n",
       "    </tr>\n",
       "    <tr>\n",
       "      <th>19</th>\n",
       "      <td>origins</td>\n",
       "    </tr>\n",
       "    <tr>\n",
       "      <th>104</th>\n",
       "      <td>omega-9-fat_100g</td>\n",
       "    </tr>\n",
       "    <tr>\n",
       "      <th>99</th>\n",
       "      <td>omega-6-fat_100g</td>\n",
       "    </tr>\n",
       "    <tr>\n",
       "      <th>95</th>\n",
       "      <td>omega-3-fat_100g</td>\n",
       "    </tr>\n",
       "    <tr>\n",
       "      <th>176</th>\n",
       "      <td>nutrition-score-uk_100g</td>\n",
       "    </tr>\n",
       "    <tr>\n",
       "      <th>175</th>\n",
       "      <td>nutrition-score-fr_100g</td>\n",
       "    </tr>\n",
       "    <tr>\n",
       "      <th>56</th>\n",
       "      <td>nutriscore_score</td>\n",
       "    </tr>\n",
       "    <tr>\n",
       "      <th>57</th>\n",
       "      <td>nutriscore_grade</td>\n",
       "    </tr>\n",
       "    <tr>\n",
       "      <th>129</th>\n",
       "      <td>nucleotides_100g</td>\n",
       "    </tr>\n",
       "  </tbody>\n",
       "</table>\n",
       "</div>"
      ],
      "text/plain": [
       "                            0\n",
       "156                 zinc_100g\n",
       "178       water-hardness_100g\n",
       "141           vitamin-pp_100g\n",
       "137            vitamin-k_100g\n",
       "136            vitamin-e_100g\n",
       "135            vitamin-d_100g\n",
       "138            vitamin-c_100g\n",
       "143           vitamin-b9_100g\n",
       "142           vitamin-b6_100g\n",
       "140           vitamin-b2_100g\n",
       "139           vitamin-b1_100g\n",
       "145          vitamin-b12_100g\n",
       "133            vitamin-a_100g\n",
       "1                         url\n",
       "111            trans-fat_100g\n",
       "41                traces_tags\n",
       "42                  traces_en\n",
       "40                     traces\n",
       "165              taurine_100g\n",
       "114               sugars_100g\n",
       "33                     stores\n",
       "62                states_tags\n",
       "63                  states_en\n",
       "61                     states\n",
       "121               starch_100g\n",
       "131               sodium_100g\n",
       "148               silica_100g\n",
       "43               serving_size\n",
       "44           serving_quantity\n",
       "128       serum-proteins_100g\n",
       "160             selenium_100g\n",
       "78         saturated-fat_100g\n",
       "130                 salt_100g\n",
       "10                   quantity\n",
       "32            purchase_places\n",
       "126             proteins_100g\n",
       "7                product_name\n",
       "150            potassium_100g\n",
       "94   polyunsaturated-fat_100g\n",
       "122              polyols_100g\n",
       "60              pnns_groups_2\n",
       "59              pnns_groups_1\n",
       "180        phylloquinone_100g\n",
       "153           phosphorus_100g\n",
       "166                   ph_100g\n",
       "147     pantothenic-acid_100g\n",
       "13             packaging_text\n",
       "12             packaging_tags\n",
       "11                  packaging\n",
       "20               origins_tags\n",
       "21                 origins_en\n",
       "19                    origins\n",
       "104          omega-9-fat_100g\n",
       "99           omega-6-fat_100g\n",
       "95           omega-3-fat_100g\n",
       "176   nutrition-score-uk_100g\n",
       "175   nutrition-score-fr_100g\n",
       "56           nutriscore_score\n",
       "57           nutriscore_grade\n",
       "129          nucleotides_100g"
      ]
     },
     "execution_count": 7,
     "metadata": {},
     "output_type": "execute_result"
    }
   ],
   "source": [
    "pd.DataFrame(df.columns).sort_values(0, ascending=False).head(60)"
   ]
  },
  {
   "cell_type": "markdown",
   "metadata": {},
   "source": [
    "### Suppression des colonnes aux valeurs nulles/quasi-nulles"
   ]
  },
  {
   "cell_type": "code",
   "execution_count": 8,
   "metadata": {},
   "outputs": [
    {
     "data": {
      "text/html": [
       "<div>\n",
       "<style scoped>\n",
       "    .dataframe tbody tr th:only-of-type {\n",
       "        vertical-align: middle;\n",
       "    }\n",
       "\n",
       "    .dataframe tbody tr th {\n",
       "        vertical-align: top;\n",
       "    }\n",
       "\n",
       "    .dataframe thead th {\n",
       "        text-align: right;\n",
       "    }\n",
       "</style>\n",
       "<table border=\"1\" class=\"dataframe\">\n",
       "  <thead>\n",
       "    <tr style=\"text-align: right;\">\n",
       "      <th></th>\n",
       "      <th>0</th>\n",
       "    </tr>\n",
       "  </thead>\n",
       "  <tbody>\n",
       "    <tr>\n",
       "      <th>0</th>\n",
       "      <td>additives_en</td>\n",
       "    </tr>\n",
       "    <tr>\n",
       "      <th>1</th>\n",
       "      <td>additives_n</td>\n",
       "    </tr>\n",
       "    <tr>\n",
       "      <th>2</th>\n",
       "      <td>additives_tags</td>\n",
       "    </tr>\n",
       "    <tr>\n",
       "      <th>3</th>\n",
       "      <td>allergens</td>\n",
       "    </tr>\n",
       "    <tr>\n",
       "      <th>4</th>\n",
       "      <td>brand_owner</td>\n",
       "    </tr>\n",
       "    <tr>\n",
       "      <th>...</th>\n",
       "      <td>...</td>\n",
       "    </tr>\n",
       "    <tr>\n",
       "      <th>83</th>\n",
       "      <td>vitamin-b6_100g</td>\n",
       "    </tr>\n",
       "    <tr>\n",
       "      <th>84</th>\n",
       "      <td>vitamin-c_100g</td>\n",
       "    </tr>\n",
       "    <tr>\n",
       "      <th>85</th>\n",
       "      <td>vitamin-d_100g</td>\n",
       "    </tr>\n",
       "    <tr>\n",
       "      <th>86</th>\n",
       "      <td>vitamin-pp_100g</td>\n",
       "    </tr>\n",
       "    <tr>\n",
       "      <th>87</th>\n",
       "      <td>zinc_100g</td>\n",
       "    </tr>\n",
       "  </tbody>\n",
       "</table>\n",
       "<p>88 rows × 1 columns</p>\n",
       "</div>"
      ],
      "text/plain": [
       "                  0\n",
       "0      additives_en\n",
       "1       additives_n\n",
       "2    additives_tags\n",
       "3         allergens\n",
       "4       brand_owner\n",
       "..              ...\n",
       "83  vitamin-b6_100g\n",
       "84   vitamin-c_100g\n",
       "85   vitamin-d_100g\n",
       "86  vitamin-pp_100g\n",
       "87        zinc_100g\n",
       "\n",
       "[88 rows x 1 columns]"
      ]
     },
     "execution_count": 8,
     "metadata": {},
     "output_type": "execute_result"
    }
   ],
   "source": [
    "df.dropna(axis=\"columns\", thresh=100, inplace=True)\n",
    "df.shape\n",
    "pd.DataFrame(np.sort(df.columns))"
   ]
  },
  {
   "cell_type": "code",
   "execution_count": 9,
   "metadata": {},
   "outputs": [
    {
     "data": {
      "text/plain": [
       "(9999, 88)"
      ]
     },
     "execution_count": 9,
     "metadata": {},
     "output_type": "execute_result"
    }
   ],
   "source": [
    "df.shape"
   ]
  },
  {
   "cell_type": "markdown",
   "metadata": {},
   "source": [
    "### Idée d'application\n",
    "L'idée d'application est de comparer la qualité des contributeurs selon différents critères nutritionnels."
   ]
  },
  {
   "cell_type": "markdown",
   "metadata": {},
   "source": [
    "### Repérage des colonnes exploitables"
   ]
  },
  {
   "cell_type": "code",
   "execution_count": 10,
   "metadata": {},
   "outputs": [
    {
     "data": {
      "text/plain": [
       "array([nan, 'd', 'b', 'a', 'c', 'e'], dtype=object)"
      ]
     },
     "execution_count": 10,
     "metadata": {},
     "output_type": "execute_result"
    }
   ],
   "source": [
    "#j'identifie les différentes colonnes\n",
    "df[\"nutriscore_grade\"].unique()"
   ]
  },
  {
   "cell_type": "code",
   "execution_count": 11,
   "metadata": {},
   "outputs": [
    {
     "data": {
      "text/plain": [
       "usda-ndb-import               4443\n",
       "kiliweb                       2163\n",
       "org-database-usda             1824\n",
       "openfoodfacts-contributors     611\n",
       "inf                            141\n",
       "                              ... \n",
       "jordibrus                        1\n",
       "yogigirl                         1\n",
       "polochon                         1\n",
       "grumpf                           1\n",
       "foodtime                         1\n",
       "Name: creator, Length: 152, dtype: int64"
      ]
     },
     "execution_count": 11,
     "metadata": {},
     "output_type": "execute_result"
    }
   ],
   "source": [
    "df[\"creator\"].value_counts().sort_values(ascending=False)\n"
   ]
  },
  {
   "cell_type": "markdown",
   "metadata": {},
   "source": [
    "### Detection et suppression des valeurs abbérantes"
   ]
  },
  {
   "cell_type": "code",
   "execution_count": 12,
   "metadata": {},
   "outputs": [
    {
     "data": {
      "text/html": [
       "<div>\n",
       "<style scoped>\n",
       "    .dataframe tbody tr th:only-of-type {\n",
       "        vertical-align: middle;\n",
       "    }\n",
       "\n",
       "    .dataframe tbody tr th {\n",
       "        vertical-align: top;\n",
       "    }\n",
       "\n",
       "    .dataframe thead th {\n",
       "        text-align: right;\n",
       "    }\n",
       "</style>\n",
       "<table border=\"1\" class=\"dataframe\">\n",
       "  <thead>\n",
       "    <tr style=\"text-align: right;\">\n",
       "      <th></th>\n",
       "      <th>energy-kcal_100g</th>\n",
       "      <th>energy_100g</th>\n",
       "      <th>carbohydrates_100g</th>\n",
       "      <th>proteins_100g</th>\n",
       "      <th>nutriscore_score</th>\n",
       "      <th>fat_100g</th>\n",
       "    </tr>\n",
       "  </thead>\n",
       "  <tbody>\n",
       "    <tr>\n",
       "      <th>count</th>\n",
       "      <td>8587.000000</td>\n",
       "      <td>8644.000000</td>\n",
       "      <td>8599.000000</td>\n",
       "      <td>8599.000000</td>\n",
       "      <td>5038.000000</td>\n",
       "      <td>8585.000000</td>\n",
       "    </tr>\n",
       "    <tr>\n",
       "      <th>mean</th>\n",
       "      <td>284.896280</td>\n",
       "      <td>1191.589160</td>\n",
       "      <td>32.761491</td>\n",
       "      <td>7.403634</td>\n",
       "      <td>9.935887</td>\n",
       "      <td>13.733238</td>\n",
       "    </tr>\n",
       "    <tr>\n",
       "      <th>std</th>\n",
       "      <td>206.923572</td>\n",
       "      <td>865.045922</td>\n",
       "      <td>28.014195</td>\n",
       "      <td>10.013264</td>\n",
       "      <td>9.653931</td>\n",
       "      <td>18.070997</td>\n",
       "    </tr>\n",
       "    <tr>\n",
       "      <th>min</th>\n",
       "      <td>0.000000</td>\n",
       "      <td>0.000000</td>\n",
       "      <td>0.000000</td>\n",
       "      <td>0.000000</td>\n",
       "      <td>-14.000000</td>\n",
       "      <td>0.000000</td>\n",
       "    </tr>\n",
       "    <tr>\n",
       "      <th>25%</th>\n",
       "      <td>96.484850</td>\n",
       "      <td>402.000000</td>\n",
       "      <td>6.898300</td>\n",
       "      <td>0.800000</td>\n",
       "      <td>1.000000</td>\n",
       "      <td>0.000000</td>\n",
       "    </tr>\n",
       "    <tr>\n",
       "      <th>50%</th>\n",
       "      <td>286.000000</td>\n",
       "      <td>1197.000000</td>\n",
       "      <td>25.000000</td>\n",
       "      <td>4.800000</td>\n",
       "      <td>11.000000</td>\n",
       "      <td>5.710000</td>\n",
       "    </tr>\n",
       "    <tr>\n",
       "      <th>75%</th>\n",
       "      <td>417.000000</td>\n",
       "      <td>1745.000000</td>\n",
       "      <td>56.615000</td>\n",
       "      <td>9.725000</td>\n",
       "      <td>18.000000</td>\n",
       "      <td>21.430000</td>\n",
       "    </tr>\n",
       "    <tr>\n",
       "      <th>max</th>\n",
       "      <td>2674.000000</td>\n",
       "      <td>11188.000000</td>\n",
       "      <td>222.000000</td>\n",
       "      <td>100.000000</td>\n",
       "      <td>36.000000</td>\n",
       "      <td>222.000000</td>\n",
       "    </tr>\n",
       "  </tbody>\n",
       "</table>\n",
       "</div>"
      ],
      "text/plain": [
       "       energy-kcal_100g   energy_100g  carbohydrates_100g  proteins_100g  \\\n",
       "count       8587.000000   8644.000000         8599.000000    8599.000000   \n",
       "mean         284.896280   1191.589160           32.761491       7.403634   \n",
       "std          206.923572    865.045922           28.014195      10.013264   \n",
       "min            0.000000      0.000000            0.000000       0.000000   \n",
       "25%           96.484850    402.000000            6.898300       0.800000   \n",
       "50%          286.000000   1197.000000           25.000000       4.800000   \n",
       "75%          417.000000   1745.000000           56.615000       9.725000   \n",
       "max         2674.000000  11188.000000          222.000000     100.000000   \n",
       "\n",
       "       nutriscore_score     fat_100g  \n",
       "count       5038.000000  8585.000000  \n",
       "mean           9.935887    13.733238  \n",
       "std            9.653931    18.070997  \n",
       "min          -14.000000     0.000000  \n",
       "25%            1.000000     0.000000  \n",
       "50%           11.000000     5.710000  \n",
       "75%           18.000000    21.430000  \n",
       "max           36.000000   222.000000  "
      ]
     },
     "execution_count": 12,
     "metadata": {},
     "output_type": "execute_result"
    }
   ],
   "source": [
    "df[[\"energy-kcal_100g\",\"energy_100g\",\"carbohydrates_100g\",\"proteins_100g\",\"nutriscore_grade\",\"nutriscore_score\",\"fat_100g\"]].describe()"
   ]
  },
  {
   "cell_type": "code",
   "execution_count": 13,
   "metadata": {},
   "outputs": [],
   "source": [
    "#df[\"energy-kcal_100g\"]=df[\"energy-kcal_100g\"].apply(lambda v: v if 0<v<910 else np.nan)\n",
    "#df[\"energy_100g\"]=df[\"energy_100g\"].apply(lambda v: v if 0<v<3800 else np.nan)\n",
    "\n",
    "df.where((df[\"energy_100g\"]<3600) & (df[\"energy_100g\"]>0), np.nan,inplace=True)\n",
    "\n",
    "\n",
    "df[\"energy-kcal_100g\"].where(~(df[\"energy-kcal_100g\"].isnull()),df[\"energy_100g\"] / 4.20,inplace=True) \n",
    "df[\"energy-kcal_100g\"].fillna(df[\"energy_100g\"] / 4.20,inplace=True)"
   ]
  },
  {
   "cell_type": "code",
   "execution_count": 14,
   "metadata": {},
   "outputs": [
    {
     "data": {
      "text/plain": [
       "d    1447\n",
       "e    1183\n",
       "c     937\n",
       "a     913\n",
       "b     500\n",
       "Name: nutriscore_grade, dtype: int64"
      ]
     },
     "execution_count": 14,
     "metadata": {},
     "output_type": "execute_result"
    }
   ],
   "source": [
    "df[\"nutriscore_grade\"].value_counts()"
   ]
  },
  {
   "cell_type": "markdown",
   "metadata": {},
   "source": [
    "# ANALYSE EXPLORATOIRE DE DONNEES"
   ]
  },
  {
   "cell_type": "markdown",
   "metadata": {},
   "source": [
    "### Mesure de dispersion"
   ]
  },
  {
   "cell_type": "markdown",
   "metadata": {},
   "source": [
    "# Analyse univariée de l'énergie : moyenne, percentiles, skewness, kurtosis, modes\n"
   ]
  },
  {
   "cell_type": "code",
   "execution_count": 15,
   "metadata": {},
   "outputs": [
    {
     "ename": "NameError",
     "evalue": "name 'dfc' is not defined",
     "output_type": "error",
     "traceback": [
      "\u001b[1;31m---------------------------------------------------------------------------\u001b[0m",
      "\u001b[1;31mNameError\u001b[0m                                 Traceback (most recent call last)",
      "\u001b[1;32m<ipython-input-15-fed3164e4ae1>\u001b[0m in \u001b[0;36m<module>\u001b[1;34m\u001b[0m\n\u001b[1;32m----> 1\u001b[1;33m \u001b[0mprint\u001b[0m\u001b[1;33m(\u001b[0m\u001b[1;34m\"La moyenne énergétique est:\\n\"\u001b[0m\u001b[1;33m,\u001b[0m\u001b[0mdfc\u001b[0m\u001b[1;33m[\u001b[0m\u001b[1;34m\"energy_100g\"\u001b[0m\u001b[1;33m]\u001b[0m\u001b[1;33m.\u001b[0m\u001b[0mmean\u001b[0m\u001b[1;33m(\u001b[0m\u001b[1;33m)\u001b[0m\u001b[1;33m)\u001b[0m\u001b[1;33m\u001b[0m\u001b[1;33m\u001b[0m\u001b[0m\n\u001b[0m\u001b[0;32m      2\u001b[0m \u001b[0mprint\u001b[0m\u001b[1;33m(\u001b[0m\u001b[1;34m\"La valeur médiane est:\\n\"\u001b[0m\u001b[1;33m,\u001b[0m\u001b[0mdfc\u001b[0m\u001b[1;33m[\u001b[0m\u001b[1;34m\"energy_100g\"\u001b[0m\u001b[1;33m]\u001b[0m\u001b[1;33m.\u001b[0m\u001b[0mmedian\u001b[0m\u001b[1;33m(\u001b[0m\u001b[1;33m)\u001b[0m\u001b[1;33m)\u001b[0m\u001b[1;33m\u001b[0m\u001b[1;33m\u001b[0m\u001b[0m\n\u001b[0;32m      3\u001b[0m \u001b[0mprint\u001b[0m\u001b[1;33m(\u001b[0m\u001b[1;34m\"La valeur modale est:\\n\"\u001b[0m\u001b[1;33m,\u001b[0m\u001b[0mdfc\u001b[0m\u001b[1;33m[\u001b[0m\u001b[1;34m\"energy_100g\"\u001b[0m\u001b[1;33m]\u001b[0m\u001b[1;33m.\u001b[0m\u001b[0mmode\u001b[0m\u001b[1;33m(\u001b[0m\u001b[1;33m)\u001b[0m\u001b[1;33m)\u001b[0m\u001b[1;33m\u001b[0m\u001b[1;33m\u001b[0m\u001b[0m\n\u001b[0;32m      4\u001b[0m \u001b[0mprint\u001b[0m\u001b[1;33m(\u001b[0m\u001b[1;34m\"La variation:\\n\"\u001b[0m\u001b[1;33m,\u001b[0m\u001b[0mdfc\u001b[0m\u001b[1;33m[\u001b[0m\u001b[1;34m\"energy_100g\"\u001b[0m\u001b[1;33m]\u001b[0m\u001b[1;33m.\u001b[0m\u001b[0mvar\u001b[0m\u001b[1;33m(\u001b[0m\u001b[0mddof\u001b[0m\u001b[1;33m=\u001b[0m\u001b[1;36m0\u001b[0m\u001b[1;33m)\u001b[0m\u001b[1;33m)\u001b[0m\u001b[1;33m\u001b[0m\u001b[1;33m\u001b[0m\u001b[0m\n\u001b[0;32m      5\u001b[0m \u001b[0mprint\u001b[0m\u001b[1;33m(\u001b[0m\u001b[1;34m\"L'écart-type:\\n\"\u001b[0m\u001b[1;33m,\u001b[0m\u001b[0mdfc\u001b[0m\u001b[1;33m[\u001b[0m\u001b[1;34m\"energy_100g\"\u001b[0m\u001b[1;33m]\u001b[0m\u001b[1;33m.\u001b[0m\u001b[0mstd\u001b[0m\u001b[1;33m(\u001b[0m\u001b[0mddof\u001b[0m\u001b[1;33m=\u001b[0m\u001b[1;36m0\u001b[0m\u001b[1;33m)\u001b[0m\u001b[1;33m)\u001b[0m\u001b[1;33m\u001b[0m\u001b[1;33m\u001b[0m\u001b[0m\n",
      "\u001b[1;31mNameError\u001b[0m: name 'dfc' is not defined"
     ]
    }
   ],
   "source": [
    "print(\"La moyenne énergétique est:\\n\",dfc[\"energy_100g\"].mean())\n",
    "print(\"La valeur médiane est:\\n\",dfc[\"energy_100g\"].median())\n",
    "print(\"La valeur modale est:\\n\",dfc[\"energy_100g\"].mode())\n",
    "print(\"La variation:\\n\",dfc[\"energy_100g\"].var(ddof=0))\n",
    "print(\"L'écart-type:\\n\",dfc[\"energy_100g\"].std(ddof=0))\n",
    "print(\"le skewness empirique est égal à {}, ce qui indique que la distribution est légèrement décalée à droite\".format(dfc[\"energy_100g\"].skew().round(2)))\n",
    "print(\"le kurtosis empirique est égal à {}, ce qui indique que la distribution est plutôt aplatie, et que les observations sont moins concentrées\".format(dfc[\"energy_100g\"].kurt().round(2)))\n",
    "dfc[\"energy_100g\"].hist()"
   ]
  },
  {
   "cell_type": "code",
   "execution_count": null,
   "metadata": {},
   "outputs": [],
   "source": [
    "\n",
    "nutriscore_numbers=df[\"nutriscore_grade\"].copy()\n",
    "nutriscore_numbers=nutriscore_numbers.replace({\n",
    "    \"a\"==5,\n",
    "    \"b\"==4,\n",
    "    \"c\"==3,\n",
    "    \"d\"==2,\n",
    "    \"e\"==1\n",
    "})\n",
    "nutriscore_numbers=nutriscore_numbers.dropna()"
   ]
  },
  {
   "cell_type": "code",
   "execution_count": null,
   "metadata": {},
   "outputs": [],
   "source": [
    "dfc=df.copy()\n",
    "dfc=dfc[[\"creator\",\"energy_100g\"]]\n",
    "nutriscore_numbers=df[\"nutriscore_grade\"].copy()\n",
    "nutriscore_numbers=nutriscore_numbers.dropna()\n",
    "dfc.insert(1,\"nutriscore_numbers\",nutriscore_numbers)\n",
    "dfc[\"nutriscore_numbers\"]=dfc[\"nutriscore_numbers\"].replace({\n",
    "    \"a\":5,\n",
    "    \"b\":4,\n",
    "    \"c\":3,\n",
    "    \"d\":2,\n",
    "    \"e\":1\n",
    "})\n",
    "dfc"
   ]
  },
  {
   "cell_type": "code",
   "execution_count": null,
   "metadata": {},
   "outputs": [],
   "source": [
    "dfc[\"creator\"]=dfc[dfc[\"creator\"].isin([\"usda-ndb-import\",\"kiliweb\",\"org-database-usda\",\"openfoodfacts-contributors\"])]"
   ]
  },
  {
   "cell_type": "code",
   "execution_count": null,
   "metadata": {},
   "outputs": [],
   "source": [
    "dfc[\"creator\"].value_counts().plot.pie()"
   ]
  },
  {
   "cell_type": "markdown",
   "metadata": {},
   "source": [
    "Les organisations gouvernementales (org,usda) paraissent être les contributeurs les plus généreux; vu la source je pars du principes que les données sont fiables; c'est donc également l'occasion de tester la fiabilité des informations fournies par les 2 autres contributeurs particuliers en les comparant tous les 4."
   ]
  },
  {
   "cell_type": "code",
   "execution_count": null,
   "metadata": {},
   "outputs": [],
   "source": [
    "dfc[\"nutriscore_numbers\"].dropna(how=any)\n",
    "pd.pivot_table(dfc, index=\"creator\", values=\"nutriscore_numbers\").sort_values(by=\"nutriscore_numbers\",ascending=False)"
   ]
  },
  {
   "cell_type": "code",
   "execution_count": null,
   "metadata": {},
   "outputs": [],
   "source": [
    "dfc=dfc.dropna(axis=0, how=\"any\")"
   ]
  },
  {
   "cell_type": "code",
   "execution_count": null,
   "metadata": {},
   "outputs": [],
   "source": [
    "usda=dfc[dfc[\"creator\"]==\"usda-ndb-import\"][\"nutriscore_numbers\"]\n",
    "openfoodfacts=dfc[dfc[\"creator\"]==\"openfoodfacts-contributors\"][\"nutriscore_numbers\"]\n",
    "kiliweb=dfc[dfc[\"creator\"]==\"kiliweb\"][\"nutriscore_numbers\"]\n",
    "org=dfc[dfc[\"creator\"]==\"org-database-usda\"][\"nutriscore_numbers\"]\n",
    "df_createur=pd.DataFrame(data=dfc[[\"energy_100g\",\"creator\"]])"
   ]
  },
  {
   "cell_type": "markdown",
   "metadata": {},
   "source": [
    "Voici la distribution des aliments de la base de données en fonction de leur apport énergétique:"
   ]
  },
  {
   "cell_type": "code",
   "execution_count": null,
   "metadata": {},
   "outputs": [],
   "source": [
    "sns.displot(df_createur,bins=70)"
   ]
  },
  {
   "cell_type": "markdown",
   "metadata": {},
   "source": [
    "Nous pouvons voir que la distribution est plutôt centrée à gauche, avec des valeurs peu nombreuses dépassant les 2700kcal."
   ]
  },
  {
   "cell_type": "code",
   "execution_count": null,
   "metadata": {},
   "outputs": [],
   "source": [
    "plt.hist(dfc[\"energy_100g\"],bins=70)\n",
    "plt.show()"
   ]
  },
  {
   "cell_type": "markdown",
   "metadata": {},
   "source": [
    "Affichons maintenant la distribution énergétique moyenne des aliments pour chaque nutriscore et chacun des 4 principauux contributeurs:"
   ]
  },
  {
   "cell_type": "code",
   "execution_count": null,
   "metadata": {},
   "outputs": [],
   "source": [
    "sns.catplot(data=dfc, kind=\"bar\", x=\"nutriscore_numbers\",y=\"energy_100g\", hue=\"creator\")"
   ]
  },
  {
   "cell_type": "markdown",
   "metadata": {},
   "source": [
    "A première vue, les moyennes sont plutôt homogènes pour les 4 contributeurs. De plus, nous pouvons dire que plus le nutriscore se dégrade plus la valeur calorique est importante. L'apport calorique est donc inversement proportionnel au grade nutritionnel de l'aliment. "
   ]
  },
  {
   "cell_type": "code",
   "execution_count": null,
   "metadata": {},
   "outputs": [],
   "source": [
    "sns.catplot(data=dfc, kind=\"bar\", x=\"nutriscore_numbers\",y=dfc[\"energy_100g\"].value_counts(), hue=\"creator\")"
   ]
  },
  {
   "cell_type": "code",
   "execution_count": null,
   "metadata": {},
   "outputs": [],
   "source": [
    "plt.hist(org)\n",
    "mean=org.mean()\n",
    "plt.axvline(mean, color=\"r\")"
   ]
  },
  {
   "cell_type": "code",
   "execution_count": null,
   "metadata": {
    "scrolled": true
   },
   "outputs": [],
   "source": [
    "plt.hist(openfoodfacts)"
   ]
  },
  {
   "cell_type": "markdown",
   "metadata": {},
   "source": [
    "### Répartition des aliments selon le nutriscore"
   ]
  },
  {
   "cell_type": "markdown",
   "metadata": {},
   "source": [
    "Je veux avoir une petite idée sur la répartition globale des valeur selon le nutriscore :"
   ]
  },
  {
   "cell_type": "code",
   "execution_count": null,
   "metadata": {},
   "outputs": [],
   "source": [
    "dfc[\"nutriscore_numbers\"].value_counts().plot.pie(legend=True)"
   ]
  },
  {
   "cell_type": "markdown",
   "metadata": {},
   "source": [
    "### Distribution du nutriscore selon le contributeur"
   ]
  },
  {
   "cell_type": "code",
   "execution_count": null,
   "metadata": {},
   "outputs": [],
   "source": [
    "pd.pivot_table(dfc, index=\"creator\", values=\"nutriscore_numbers\")"
   ]
  },
  {
   "cell_type": "markdown",
   "metadata": {},
   "source": [
    "### Répatition des aliments selon l'apport calorique:"
   ]
  },
  {
   "cell_type": "code",
   "execution_count": null,
   "metadata": {},
   "outputs": [],
   "source": [
    "df_copy=df.copy()\n",
    "_0_1000=[]\n",
    "_1000_2000=[]\n",
    "_2000_end=[]\n",
    "for s in df_copy[\"energy_100g\"]:\n",
    "    if 0<s<=1000:\n",
    "        _0_1000.append(s)\n",
    "    elif 1000<s<=2000:\n",
    "        _1000_2000.append(s)\n",
    "    else:\n",
    "        _2000_end.append(s)\n",
    "\n",
    "pie=[len(_0_1000),len(_1000_2000),len(_2000_end)]\n",
    "pie=pd.DataFrame(pie, columns=[\"numbers\"], index=[\"from \"+str(x)+\"000 to \"+str(x+1)+\"000 kcal\" for x in range(0, len(pie))])   \n",
    "pie"
   ]
  },
  {
   "cell_type": "markdown",
   "metadata": {},
   "source": [
    "Nous pouvons voir que la répartition énergétique des aliments est égale. "
   ]
  },
  {
   "cell_type": "code",
   "execution_count": null,
   "metadata": {},
   "outputs": [],
   "source": [
    "df2=dfc[[\"creator\",\"energy_100g\"]].copy()\n",
    "df2.dropna(axis=0, how=\"any\")\n",
    "df2[\"creator\"].value_counts().sort_values(ascending=False)"
   ]
  },
  {
   "cell_type": "markdown",
   "metadata": {},
   "source": [
    "Les contributeurs de l'usda, qui sont les plus prolifiques en matière d'information concernant l'énergie, présentent également des moyennes d'énergie en kj pour 100g très similaires. On en déduit donc que les 2 contributeurs particuliers présentent également des données fiables prêtes à être utilisées."
   ]
  },
  {
   "cell_type": "code",
   "execution_count": null,
   "metadata": {},
   "outputs": [],
   "source": [
    "subset=pd.pivot_table(dfc, index=\"creator\")\n",
    "creator_sum=df[\"creator\"].copy().value_counts()\n",
    "subset.insert(2,\"creator_sum\",creator_sum)\n",
    "subset.sort_values(by=\"creator_sum\",ascending=False)"
   ]
  },
  {
   "cell_type": "markdown",
   "metadata": {},
   "source": [
    "On analyse la dispersion des valeurs d'énergy pour les différents produits mis en ligne par les 4 contributeurs les plus prolifiques de la base de données:"
   ]
  },
  {
   "cell_type": "code",
   "execution_count": null,
   "metadata": {},
   "outputs": [],
   "source": [
    "sns.boxplot(x=df2[\"creator\"],y=df2[\"energy_100g\"])"
   ]
  },
  {
   "cell_type": "code",
   "execution_count": null,
   "metadata": {},
   "outputs": [],
   "source": [
    "dfc[[\"nutriscore_numbers\",\"energy_100g\"]].corr()"
   ]
  },
  {
   "cell_type": "markdown",
   "metadata": {},
   "source": [
    "### Etude des correlations entre le score nutritif et l'apport énergétique des produits."
   ]
  },
  {
   "cell_type": "code",
   "execution_count": null,
   "metadata": {},
   "outputs": [],
   "source": [
    "from sklearn.linear_model import LinearRegression\n",
    "from sklearn.model_selection import train_test_split\n",
    "\n",
    "df3=dfc.copy()\n",
    "df3.insert(1,\"nutrition-score-fr_100g\",df[\"nutrition-score-fr_100g\"])\n",
    "df3.dropna(axis=0, how=\"any\")\n"
   ]
  },
  {
   "cell_type": "markdown",
   "metadata": {},
   "source": [
    "### Regression linéraire pour 2 variables quantitatives"
   ]
  },
  {
   "cell_type": "code",
   "execution_count": null,
   "metadata": {},
   "outputs": [],
   "source": [
    "sm.OLS(df3[\"nutrition-score-fr_100g\"], df3[\"energy_100g\"]).fit().summary()"
   ]
  },
  {
   "cell_type": "code",
   "execution_count": null,
   "metadata": {},
   "outputs": [],
   "source": [
    "import numpy as np\n",
    "from sklearn.linear_model import LinearRegression\n",
    "\n",
    "df3.plot(kind=\"scatter\", x=\"nutrition-score-fr_100g\", y=\"energy_100g\")\n",
    "plt.scatter(df3[\"nutrition-score-fr_100g\"], df3[\"energy_100g\"],label=\"rien\", color='r')\n",
    "\n",
    "X = df3[\"nutrition-score-fr_100g\"].values.reshape(-1,1)\n",
    "y = df3[\"energy_100g\"].values\n",
    "reg=LinearRegression()\n",
    "reg.fit(X,y)\n",
    "y_pred=reg.predict(X)\n",
    "plt.plot(X,y_pred, color='k')\n",
    "\n"
   ]
  },
  {
   "cell_type": "code",
   "execution_count": null,
   "metadata": {},
   "outputs": [],
   "source": [
    "df3.corr().round(2)"
   ]
  },
  {
   "cell_type": "markdown",
   "metadata": {},
   "source": [
    "Après avoir effectué la regression linéaire en ayant préalablement , nous pouvons clairement voir que la valeur énergétique d'un aliment est proportionnelle au score nutritionnel français. Il ressort une valeur d'environ 0,65 lors de l'estimation de la corrélation, ce qui appuie le résultat obtenu par la regression linéaire."
   ]
  },
  {
   "cell_type": "markdown",
   "metadata": {},
   "source": [
    "### Mesure de la correlation entre l'apport calorique et les contributeurs par ANOVA"
   ]
  },
  {
   "cell_type": "code",
   "execution_count": null,
   "metadata": {},
   "outputs": [],
   "source": [
    "import statsmodels.api as sm\n",
    "from statsmodels.formula.api import ols\n",
    "mod=ols(\"energy_100g ~ creator\",data=df2).fit()\n",
    "aov_table=sm.stats.anova_lm(mod, typ=2)\n",
    "pd.DataFrame(aov_table)"
   ]
  },
  {
   "cell_type": "markdown",
   "metadata": {},
   "source": [
    "Nous pouvons lire que "
   ]
  },
  {
   "cell_type": "code",
   "execution_count": null,
   "metadata": {},
   "outputs": [],
   "source": [
    "X = \"creator\" # qualitative\n",
    "Y = \"energy_100g\" # quantitative\n",
    "\n",
    "#sous_echantillon = df2[\"creator\"]\n",
    "liste=[]\n",
    "df2[\"creator\"].dropna()\n",
    "createurs=df2[\"creator\"].unique()\n",
    "for x in createurs:\n",
    "    liste.append(df2[df2[\"creator\"]==x][Y])\n",
    "\n",
    "    \n",
    "medianprops = {'color':\"black\"}\n",
    "meanprops = {'marker':'o', 'markeredgecolor':'black',\n",
    "            'markerfacecolor':'firebrick'}\n",
    "    \n",
    "plt.boxplot(liste, labels=createurs, showfliers=False, medianprops=medianprops, \n",
    "            vert=False, patch_artist=True, showmeans=True, meanprops=meanprops)\n",
    "\n",
    "plt.show()"
   ]
  },
  {
   "cell_type": "markdown",
   "metadata": {},
   "source": [
    "### Analyse de l'énergie en fct des 4 principaux contributeurs par ANOVA:  "
   ]
  },
  {
   "cell_type": "code",
   "execution_count": null,
   "metadata": {},
   "outputs": [],
   "source": [
    "import pingouin as pg\n",
    "aov=pg.anova(dv=\"energy_100g\", between=\"creator\",data=df2, detailed=True)\n",
    "aov"
   ]
  },
  {
   "cell_type": "markdown",
   "metadata": {},
   "source": [
    "Les mesures p et np2 sont très faibles, nous pouvons en déduire que la différence entre les différents createurs est insignifiante, ce qui confirme encore une fois nos précédents résultats."
   ]
  },
  {
   "cell_type": "markdown",
   "metadata": {},
   "source": [
    "Afin que la mesure de corrélation en soit pas biaisée par certains contributeurs mais en même temps ne se concentre pas seulement sur 4 contributeurs, nous nous concentrerons sur les contributeurs ayant à leur actif au moins 100 contributions. Je modifie donc la colonne [\"creator\"] du dataframe:"
   ]
  },
  {
   "cell_type": "code",
   "execution_count": 1,
   "metadata": {},
   "outputs": [
    {
     "ename": "SyntaxError",
     "evalue": "invalid syntax (<ipython-input-1-e1f0ac61409a>, line 3)",
     "output_type": "error",
     "traceback": [
      "\u001b[1;36m  File \u001b[1;32m\"<ipython-input-1-e1f0ac61409a>\"\u001b[1;36m, line \u001b[1;32m3\u001b[0m\n\u001b[1;33m    df_anova.apply(lambda x : x if x in mask==True)\u001b[0m\n\u001b[1;37m                                                  ^\u001b[0m\n\u001b[1;31mSyntaxError\u001b[0m\u001b[1;31m:\u001b[0m invalid syntax\n"
     ]
    }
   ],
   "source": [
    "df_anova=df[[\"creator\",\"energy_100g\"]]\n",
    "mask=df_anova[\"creator\"].value_counts()>20\n",
    "df_anova.apply(lambda x : x if x in mask==True)\n",
    "#df_anova.apply(lambda x : mask)\n",
    "mask"
   ]
  },
  {
   "cell_type": "code",
   "execution_count": null,
   "metadata": {},
   "outputs": [],
   "source": [
    "df_anova=df[[\"creator\",\"energy_100g\"]].copy()\n",
    "#mask=\n",
    "#masque=df_anova[\"creator\"].value_counts().isin([20,10000])\n",
    "df_anova[df_anova[\"creator\"].value_counts()>20]"
   ]
  },
  {
   "cell_type": "markdown",
   "metadata": {},
   "source": [
    "### ACP"
   ]
  },
  {
   "cell_type": "markdown",
   "metadata": {},
   "source": [
    "Je cherche à faire une ACP pour déterminer quelles composantes peuvent maximiser mon inertie :"
   ]
  },
  {
   "cell_type": "code",
   "execution_count": null,
   "metadata": {},
   "outputs": [],
   "source": [
    "from sklearn.decomposition import PCA\n",
    "from sklearn.preprocessing import StandardScaler\n",
    "from matplotlib import pyplot as plt\n",
    "from sklearn import preprocessing"
   ]
  },
  {
   "cell_type": "markdown",
   "metadata": {},
   "source": [
    "Je cherche à faire une ACP pour concernant les valeurs numériques. Je cherche par exemple à trouver toutes les colonnes qui contiennent un taux pour 100g:"
   ]
  },
  {
   "cell_type": "code",
   "execution_count": null,
   "metadata": {},
   "outputs": [],
   "source": [
    "colonnes_exploitables= [col for col in df.columns if \"100\" in col]\n",
    "print(colonnes_exploitables)\n"
   ]
  },
  {
   "cell_type": "markdown",
   "metadata": {},
   "source": [
    "Je filtre les colonnes selon un taux de remplissage de minimum 30% afin de ne pas avoir à remplir les valeurs manquantes par une d'autres valeurs (ne pas biaiser l'ACP). "
   ]
  },
  {
   "cell_type": "code",
   "execution_count": null,
   "metadata": {},
   "outputs": [],
   "source": [
    "df_pca=df[['energy-kcal_100g', 'energy_100g', 'fat_100g', 'saturated-fat_100g', 'monounsaturated-fat_100g', 'polyunsaturated-fat_100g', 'trans-fat_100g', 'cholesterol_100g', 'carbohydrates_100g', 'sugars_100g', 'fiber_100g', 'proteins_100g', 'salt_100g', 'sodium_100g', 'vitamin-a_100g', 'vitamin-d_100g', 'vitamin-c_100g', 'vitamin-b1_100g', 'vitamin-b2_100g', 'vitamin-pp_100g', 'vitamin-b6_100g', 'folates_100g', 'vitamin-b12_100g', 'pantothenic-acid_100g', 'potassium_100g', 'calcium_100g', 'phosphorus_100g', 'iron_100g', 'magnesium_100g', 'zinc_100g', 'nutrition-score-fr_100g']]\n",
    "df_pca=df_pca.dropna(axis=1,thresh=3000)\n",
    "df_pca.shape"
   ]
  },
  {
   "cell_type": "markdown",
   "metadata": {},
   "source": [
    "Il reste 17 colonnes après filtrage. Pour être en capacité de faire une PCA je ne dois pas avoir de valeurs manquantes. A défaut d'utiliser fillna() pour remplacer les valeurs manquantes par d'autres valeurs(mean, mode, valeur la plus fréquente)qui pourraient biaiser l'ACP, je choisis de supprimer toutes les lignes comportant des valeurs manquantes:"
   ]
  },
  {
   "cell_type": "code",
   "execution_count": null,
   "metadata": {},
   "outputs": [],
   "source": [
    "df_pca=df_pca.dropna(axis=0,thresh=17)\n",
    "df_pca.isna().sum()\n",
    "df_pca.shape"
   ]
  },
  {
   "cell_type": "markdown",
   "metadata": {},
   "source": [
    "Toutes les lignes sont pleines; je vais donc pouvoir réaliser une ACP avec 17 variables. "
   ]
  },
  {
   "cell_type": "code",
   "execution_count": null,
   "metadata": {},
   "outputs": [],
   "source": [
    "scaler=preprocessing.scale(df_pca.T)\n",
    "pca=PCA()\n",
    "pca=pca.fit(df_pca)\n",
    "pca_data=pca.transform(df_pca)\n",
    "per_var=np.round(pca.explained_variance_ratio_*100, decimals=1)\n",
    "labels=df_pca.columns\n",
    "data_var=pd.DataFrame(per_var, index=labels)\n",
    "plt.bar(x=df_pca.columns, height=per_var, tick_label=labels)\n",
    "plt.xlabel(\"Pricipal Component\")\n",
    "plt.ylabel(\"Percentage of Explained Variance\")\n",
    "plt.title(\"Screen Plot\")\n",
    "plt.show()\n"
   ]
  },
  {
   "cell_type": "code",
   "execution_count": null,
   "metadata": {},
   "outputs": [],
   "source": [
    "per_var[0]"
   ]
  },
  {
   "cell_type": "markdown",
   "metadata": {},
   "source": [
    "Je retire donc les colonnes  'energy-kcal_100g', 'energy_100g' car l'ACP n'est d'aucune utilité. Je retire également 'saturated-fat_100g', 'monounsaturated-fat_100g', 'polyunsaturated-fat_100g', 'trans-fat_100g' car les matières grasses sont déjà representées par \"fat_100g\" "
   ]
  },
  {
   "cell_type": "code",
   "execution_count": null,
   "metadata": {
    "scrolled": true
   },
   "outputs": [],
   "source": [
    "df_pca_2=df[['fat_100g', 'cholesterol_100g', 'carbohydrates_100g', 'sugars_100g', 'fiber_100g', 'proteins_100g', 'salt_100g', 'vitamin-a_100g', 'vitamin-d_100g', 'vitamin-c_100g', 'vitamin-b1_100g', 'vitamin-b2_100g', 'vitamin-pp_100g', 'vitamin-b6_100g', 'folates_100g', 'vitamin-b12_100g', 'pantothenic-acid_100g', 'potassium_100g', 'calcium_100g', 'phosphorus_100g', 'iron_100g', 'magnesium_100g', 'zinc_100g', 'nutrition-score-fr_100g']].copy()\n",
    "df_pca_2=df_pca_2.dropna(axis=1,thresh=3000)\n",
    "df_pca_2.shape"
   ]
  },
  {
   "cell_type": "code",
   "execution_count": null,
   "metadata": {},
   "outputs": [],
   "source": [
    "df_pca_2=df_pca_2.dropna(axis=0,thresh=12)\n",
    "df_pca_2.isna().sum()"
   ]
  },
  {
   "cell_type": "code",
   "execution_count": null,
   "metadata": {
    "scrolled": false
   },
   "outputs": [],
   "source": [
    "scaler=preprocessing.scale(df_pca_2.T)\n",
    "pca=PCA()\n",
    "pca=pca.fit(df_pca_2)\n",
    "pca_data=pca.transform(df_pca_2)\n",
    "per_var=np.round(pca.explained_variance_ratio_*100, decimals=1)\n",
    "labels=df_pca_2.columns\n",
    "data_var=pd.DataFrame(per_var, index=labels)\n",
    "plt.bar(x=df_pca_2.columns, height=per_var, tick_label=labels)\n",
    "plt.xlabel(\"Pricipal Component\")\n",
    "plt.ylabel(\"Percentage of Explained Variance\")\n",
    "plt.title(\"Screen Plot\")\n",
    "plt.show()\n"
   ]
  },
  {
   "cell_type": "code",
   "execution_count": null,
   "metadata": {},
   "outputs": [],
   "source": [
    "for x in labels:\n",
    "    print(x)"
   ]
  },
  {
   "cell_type": "code",
   "execution_count": null,
   "metadata": {},
   "outputs": [],
   "source": [
    "pca_df=pd.DataFrame(pca_data, columns=labels)\n",
    "plt.scatter(pca_df[\"fat_100g\"], pca_df[\"cholesterol_100g\"])\n",
    "plt.title(\"My PCA Graph\")\n",
    "plt.xlabel(\"fat_100g-{}%\".format(per_var[0]))\n",
    "plt.ylabel(\"cholesterol_100g-{}%\".format(per_var[1]))\n",
    "for sample in pca_df.index:\n",
    "    plt.annotate(sample,(pca_df[\"fat_100g\"].loc[sample],pca_df[\"cholesterol_100g\"].loc[sample]))\n",
    "\n",
    "plt.show()"
   ]
  },
  {
   "cell_type": "code",
   "execution_count": null,
   "metadata": {},
   "outputs": [],
   "source": [
    "sns.scatterplot(y=\"nutrition-score-fr_100g\", x=\"saturated-fat_100g\",  data=df_pca)"
   ]
  },
  {
   "cell_type": "code",
   "execution_count": null,
   "metadata": {},
   "outputs": [],
   "source": [
    "mask=df[\"creator\"].isin([\"usda-ndb-import\",\"kiliweb\",\"org-database-usda\",\"openfoodfacts-contributors\"])"
   ]
  },
  {
   "cell_type": "code",
   "execution_count": null,
   "metadata": {},
   "outputs": [],
   "source": [
    "df[\"other_creators\"]=df[\"creator\"].where(mask==False).dropna(how=\"all\")\n",
    "#df[\"other_creators\"].fillna(\" \", inplace=True)\n",
    "#np.intersect1d(df[\"other_creators\"],df[\"creator\"])"
   ]
  },
  {
   "cell_type": "markdown",
   "metadata": {},
   "source": [
    "### Comparaison des deux différents types de contributeurs: "
   ]
  },
  {
   "cell_type": "markdown",
   "metadata": {},
   "source": [
    "Afin de généraliser mon analyse, je cherche à comparer la qualité des contributions de deux classes de contributeurs. La première regroupe les 4 contributeurs les plus prolifiques(prin_crea), dont deux sont rattachés à une agence gouvernementale, et la seconde regroupe les autres contributeurs qui ont participé modestement dans cette database (other_crea). "
   ]
  },
  {
   "cell_type": "code",
   "execution_count": 17,
   "metadata": {},
   "outputs": [],
   "source": [
    "prin_crea=df[['creator', 'nutrition-score-fr_100g','energy_100g']].where(df[\"creator\"].isin([\"usda-ndb-import\",\"kiliweb\",\"org-database-usda\",\"openfoodfacts-contributors\"]))\n",
    "other_crea=df[['creator', 'nutrition-score-fr_100g','energy_100g']].where(~df[\"creator\"].isin([\"usda-ndb-import\",\"kiliweb\",\"org-database-usda\",\"openfoodfacts-contributors\"]))"
   ]
  },
  {
   "cell_type": "code",
   "execution_count": 18,
   "metadata": {},
   "outputs": [],
   "source": [
    "prin_crea.dropna(axis=0,inplace=True)\n",
    "other_crea.dropna(axis=0,inplace=True)"
   ]
  },
  {
   "cell_type": "code",
   "execution_count": 19,
   "metadata": {},
   "outputs": [
    {
     "data": {
      "text/plain": [
       "[<matplotlib.lines.Line2D at 0x24ee963a460>]"
      ]
     },
     "execution_count": 19,
     "metadata": {},
     "output_type": "execute_result"
    },
    {
     "data": {
      "image/png": "[encoded data removed]",
      "text/plain": [
       "<Figure size 432x288 with 1 Axes>"
      ]
     },
     "metadata": {
      "needs_background": "light"
     },
     "output_type": "display_data"
    }
   ],
   "source": [
    "import numpy as np\n",
    "from sklearn.linear_model import LinearRegression\n",
    "\n",
    "df.plot(kind=\"scatter\", x=\"nutrition-score-fr_100g\", y=\"energy_100g\")\n",
    "plt.scatter(prin_crea[\"nutrition-score-fr_100g\"], prin_crea[\"energy_100g\"],label=\"rien\", color='b')\n",
    "plt.scatter(other_crea[\"nutrition-score-fr_100g\"], other_crea[\"energy_100g\"],label=\"rien\", color='y')\n",
    "\n",
    "X_prin = prin_crea[\"nutrition-score-fr_100g\"].values.reshape(-1,1)\n",
    "y_prin = prin_crea[\"energy_100g\"].values\n",
    "X_other=other_crea[\"nutrition-score-fr_100g\"].values.reshape(-1,1)\n",
    "y_other=other_crea[\"energy_100g\"].values\n",
    "reg1=LinearRegression()\n",
    "reg2=LinearRegression()\n",
    "reg1.fit(X_prin,y_prin)\n",
    "reg2.fit(X_other,y_other)\n",
    "y_prin_pred=reg1.predict(X_prin)\n",
    "y_other_pred=reg2.predict(X_other)\n",
    "plt.plot(X_prin,y_prin_pred, color='k')\n",
    "plt.plot(X_other,y_other_pred, color='r')\n"
   ]
  },
  {
   "cell_type": "markdown",
   "metadata": {},
   "source": [
    "Pour pousser l'analyse plus loin, je veux maintenant choisir au hasard un contributeur parmi \"les autres\", c'est-à-dire appartenant à la seconde catégorie pour l'évaluer individuellement. "
   ]
  },
  {
   "cell_type": "markdown",
   "metadata": {},
   "source": [
    "#### Cas pratique avec un contributeur tiers en comparaison avec les contributeurs principaux."
   ]
  },
  {
   "cell_type": "code",
   "execution_count": null,
   "metadata": {},
   "outputs": [],
   "source": [
    "other_crea[\"creator\"].value_counts()"
   ]
  },
  {
   "cell_type": "markdown",
   "metadata": {},
   "source": [
    "Je choisis \"tacinte\" et je décide de comparer ses contributions avec celles des contributeurs gouvernementaux tels que l'USDA:"
   ]
  },
  {
   "cell_type": "code",
   "execution_count": 20,
   "metadata": {},
   "outputs": [
    {
     "data": {
      "text/html": [
       "<div>\n",
       "<style scoped>\n",
       "    .dataframe tbody tr th:only-of-type {\n",
       "        vertical-align: middle;\n",
       "    }\n",
       "\n",
       "    .dataframe tbody tr th {\n",
       "        vertical-align: top;\n",
       "    }\n",
       "\n",
       "    .dataframe thead th {\n",
       "        text-align: right;\n",
       "    }\n",
       "</style>\n",
       "<table border=\"1\" class=\"dataframe\">\n",
       "  <thead>\n",
       "    <tr style=\"text-align: right;\">\n",
       "      <th></th>\n",
       "      <th>creator</th>\n",
       "      <th>nutrition-score-fr_100g</th>\n",
       "      <th>energy_100g</th>\n",
       "    </tr>\n",
       "  </thead>\n",
       "  <tbody>\n",
       "    <tr>\n",
       "      <th>563</th>\n",
       "      <td>tacinte</td>\n",
       "      <td>11.0</td>\n",
       "      <td>1284.0</td>\n",
       "    </tr>\n",
       "    <tr>\n",
       "      <th>564</th>\n",
       "      <td>tacinte</td>\n",
       "      <td>11.0</td>\n",
       "      <td>1284.0</td>\n",
       "    </tr>\n",
       "    <tr>\n",
       "      <th>1643</th>\n",
       "      <td>tacinte</td>\n",
       "      <td>9.0</td>\n",
       "      <td>975.0</td>\n",
       "    </tr>\n",
       "    <tr>\n",
       "      <th>2164</th>\n",
       "      <td>tacinte</td>\n",
       "      <td>12.0</td>\n",
       "      <td>1070.0</td>\n",
       "    </tr>\n",
       "    <tr>\n",
       "      <th>2342</th>\n",
       "      <td>tacinte</td>\n",
       "      <td>-2.0</td>\n",
       "      <td>615.0</td>\n",
       "    </tr>\n",
       "    <tr>\n",
       "      <th>2356</th>\n",
       "      <td>tacinte</td>\n",
       "      <td>7.0</td>\n",
       "      <td>561.0</td>\n",
       "    </tr>\n",
       "    <tr>\n",
       "      <th>2398</th>\n",
       "      <td>tacinte</td>\n",
       "      <td>2.0</td>\n",
       "      <td>761.0</td>\n",
       "    </tr>\n",
       "    <tr>\n",
       "      <th>2514</th>\n",
       "      <td>tacinte</td>\n",
       "      <td>0.0</td>\n",
       "      <td>42.0</td>\n",
       "    </tr>\n",
       "    <tr>\n",
       "      <th>2709</th>\n",
       "      <td>tacinte</td>\n",
       "      <td>0.0</td>\n",
       "      <td>332.0</td>\n",
       "    </tr>\n",
       "    <tr>\n",
       "      <th>2796</th>\n",
       "      <td>tacinte</td>\n",
       "      <td>0.0</td>\n",
       "      <td>862.0</td>\n",
       "    </tr>\n",
       "    <tr>\n",
       "      <th>2913</th>\n",
       "      <td>tacinte</td>\n",
       "      <td>10.0</td>\n",
       "      <td>1670.0</td>\n",
       "    </tr>\n",
       "    <tr>\n",
       "      <th>3052</th>\n",
       "      <td>tacinte</td>\n",
       "      <td>26.0</td>\n",
       "      <td>2013.0</td>\n",
       "    </tr>\n",
       "    <tr>\n",
       "      <th>3384</th>\n",
       "      <td>tacinte</td>\n",
       "      <td>-4.0</td>\n",
       "      <td>1554.0</td>\n",
       "    </tr>\n",
       "    <tr>\n",
       "      <th>3444</th>\n",
       "      <td>tacinte</td>\n",
       "      <td>2.0</td>\n",
       "      <td>201.0</td>\n",
       "    </tr>\n",
       "    <tr>\n",
       "      <th>4185</th>\n",
       "      <td>tacinte</td>\n",
       "      <td>18.0</td>\n",
       "      <td>2264.0</td>\n",
       "    </tr>\n",
       "    <tr>\n",
       "      <th>4611</th>\n",
       "      <td>tacinte</td>\n",
       "      <td>17.0</td>\n",
       "      <td>1213.0</td>\n",
       "    </tr>\n",
       "    <tr>\n",
       "      <th>4911</th>\n",
       "      <td>tacinte</td>\n",
       "      <td>5.0</td>\n",
       "      <td>443.0</td>\n",
       "    </tr>\n",
       "    <tr>\n",
       "      <th>6422</th>\n",
       "      <td>tacinte</td>\n",
       "      <td>7.0</td>\n",
       "      <td>2092.0</td>\n",
       "    </tr>\n",
       "    <tr>\n",
       "      <th>7062</th>\n",
       "      <td>tacinte</td>\n",
       "      <td>-5.0</td>\n",
       "      <td>2650.0</td>\n",
       "    </tr>\n",
       "  </tbody>\n",
       "</table>\n",
       "</div>"
      ],
      "text/plain": [
       "      creator  nutrition-score-fr_100g  energy_100g\n",
       "563   tacinte                     11.0       1284.0\n",
       "564   tacinte                     11.0       1284.0\n",
       "1643  tacinte                      9.0        975.0\n",
       "2164  tacinte                     12.0       1070.0\n",
       "2342  tacinte                     -2.0        615.0\n",
       "2356  tacinte                      7.0        561.0\n",
       "2398  tacinte                      2.0        761.0\n",
       "2514  tacinte                      0.0         42.0\n",
       "2709  tacinte                      0.0        332.0\n",
       "2796  tacinte                      0.0        862.0\n",
       "2913  tacinte                     10.0       1670.0\n",
       "3052  tacinte                     26.0       2013.0\n",
       "3384  tacinte                     -4.0       1554.0\n",
       "3444  tacinte                      2.0        201.0\n",
       "4185  tacinte                     18.0       2264.0\n",
       "4611  tacinte                     17.0       1213.0\n",
       "4911  tacinte                      5.0        443.0\n",
       "6422  tacinte                      7.0       2092.0\n",
       "7062  tacinte                     -5.0       2650.0"
      ]
     },
     "execution_count": 20,
     "metadata": {},
     "output_type": "execute_result"
    }
   ],
   "source": [
    "tacinte=other_crea.where(other_crea[\"creator\"]==\"tacinte\")\n",
    "tacinte.dropna(axis=0, how=\"all\",inplace=True)\n",
    "tacinte"
   ]
  },
  {
   "cell_type": "code",
   "execution_count": 21,
   "metadata": {},
   "outputs": [
    {
     "data": {
      "text/plain": [
       "[<matplotlib.lines.Line2D at 0x24ee9674ac0>]"
      ]
     },
     "execution_count": 21,
     "metadata": {},
     "output_type": "execute_result"
    },
    {
     "data": {
      "image/png": "[encoded data removed]",
      "text/plain": [
       "<Figure size 432x288 with 1 Axes>"
      ]
     },
     "metadata": {
      "needs_background": "light"
     },
     "output_type": "display_data"
    }
   ],
   "source": [
    "import numpy as np\n",
    "from sklearn.linear_model import LinearRegression\n",
    "\n",
    "df.plot(kind=\"scatter\", x=\"nutrition-score-fr_100g\", y=\"energy_100g\")\n",
    "plt.scatter(prin_crea[\"nutrition-score-fr_100g\"], prin_crea[\"energy_100g\"],label=\"rien\", color='b')\n",
    "plt.scatter(tacinte[\"nutrition-score-fr_100g\"], tacinte[\"energy_100g\"],label=\"rien\", color='y')\n",
    "\n",
    "X_prin = prin_crea[\"nutrition-score-fr_100g\"].values.reshape(-1,1)\n",
    "y_prin = prin_crea[\"energy_100g\"].values\n",
    "X_tacinte=tacinte[\"nutrition-score-fr_100g\"].values.reshape(-1,1)\n",
    "y_tacinte=tacinte[\"energy_100g\"].values\n",
    "reg1=LinearRegression()\n",
    "reg2=LinearRegression()\n",
    "reg1.fit(X_prin,y_prin)\n",
    "reg2.fit(X_tacinte,y_tacinte)\n",
    "y_prin_pred=reg1.predict(X_prin)\n",
    "y_tacinte_pred=reg2.predict(X_tacinte)\n",
    "plt.plot(X_prin,y_prin_pred, color='k')\n",
    "plt.plot(X_tacinte,y_tacinte_pred, color='r')"
   ]
  }
 ],
 "metadata": {
  "kernelspec": {
   "display_name": "Python 3",
   "language": "python",
   "name": "python3"
  },
  "language_info": {
   "codemirror_mode": {
    "name": "ipython",
    "version": 3
   },
   "file_extension": ".py",
   "mimetype": "text/x-python",
   "name": "python",
   "nbconvert_exporter": "python",
   "pygments_lexer": "ipython3",
   "version": "3.8.5"
  }
 },
 "nbformat": 4,
 "nbformat_minor": 4
}
