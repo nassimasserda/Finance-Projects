{
 "cells": [
  {
   "cell_type": "code",
   "execution_count": 76,
   "metadata": {},
   "outputs": [],
   "source": [
    "import numpy as np\n",
    "import pandas as pd\n",
    "from matplotlib import pyplot as plt\n",
    "from datetime import datetime\n",
    "import yfinance as yf\n",
    "from datetime import datetime as dt"
   ]
  },
  {
   "cell_type": "code",
   "execution_count": 77,
   "metadata": {},
   "outputs": [],
   "source": [
    "start=\"2021-06-01\"\n",
    "end=\"2021-09-01\""
   ]
  },
  {
   "cell_type": "code",
   "execution_count": 78,
   "metadata": {},
   "outputs": [
    {
     "name": "stdout",
     "output_type": "stream",
     "text": [
      "[*********************100%***********************]  1 of 1 completed\n"
     ]
    }
   ],
   "source": [
    "JPM=yf.download(\"JPM\", start=start, end=end)"
   ]
  },
  {
   "cell_type": "code",
   "execution_count": 79,
   "metadata": {},
   "outputs": [
    {
     "data": {
      "text/html": [
       "<div>\n",
       "<style scoped>\n",
       "    .dataframe tbody tr th:only-of-type {\n",
       "        vertical-align: middle;\n",
       "    }\n",
       "\n",
       "    .dataframe tbody tr th {\n",
       "        vertical-align: top;\n",
       "    }\n",
       "\n",
       "    .dataframe thead th {\n",
       "        text-align: right;\n",
       "    }\n",
       "</style>\n",
       "<table border=\"1\" class=\"dataframe\">\n",
       "  <thead>\n",
       "    <tr style=\"text-align: right;\">\n",
       "      <th></th>\n",
       "      <th>Open</th>\n",
       "      <th>High</th>\n",
       "      <th>Low</th>\n",
       "      <th>Close</th>\n",
       "      <th>Adj Close</th>\n",
       "      <th>Volume</th>\n",
       "    </tr>\n",
       "    <tr>\n",
       "      <th>Date</th>\n",
       "      <th></th>\n",
       "      <th></th>\n",
       "      <th></th>\n",
       "      <th></th>\n",
       "      <th></th>\n",
       "      <th></th>\n",
       "    </tr>\n",
       "  </thead>\n",
       "  <tbody>\n",
       "    <tr>\n",
       "      <th>2021-06-01</th>\n",
       "      <td>165.869995</td>\n",
       "      <td>166.910004</td>\n",
       "      <td>165.479996</td>\n",
       "      <td>166.050003</td>\n",
       "      <td>164.109711</td>\n",
       "      <td>9445400</td>\n",
       "    </tr>\n",
       "    <tr>\n",
       "      <th>2021-06-02</th>\n",
       "      <td>167.259995</td>\n",
       "      <td>167.440002</td>\n",
       "      <td>165.529999</td>\n",
       "      <td>166.059998</td>\n",
       "      <td>164.119583</td>\n",
       "      <td>10498600</td>\n",
       "    </tr>\n",
       "    <tr>\n",
       "      <th>2021-06-03</th>\n",
       "      <td>165.410004</td>\n",
       "      <td>167.250000</td>\n",
       "      <td>164.660004</td>\n",
       "      <td>166.169998</td>\n",
       "      <td>164.228287</td>\n",
       "      <td>13354400</td>\n",
       "    </tr>\n",
       "    <tr>\n",
       "      <th>2021-06-04</th>\n",
       "      <td>166.210007</td>\n",
       "      <td>166.669998</td>\n",
       "      <td>165.029999</td>\n",
       "      <td>166.440002</td>\n",
       "      <td>164.495148</td>\n",
       "      <td>8510800</td>\n",
       "    </tr>\n",
       "    <tr>\n",
       "      <th>2021-06-07</th>\n",
       "      <td>167.000000</td>\n",
       "      <td>167.100006</td>\n",
       "      <td>165.139999</td>\n",
       "      <td>165.660004</td>\n",
       "      <td>163.724258</td>\n",
       "      <td>7267200</td>\n",
       "    </tr>\n",
       "  </tbody>\n",
       "</table>\n",
       "</div>"
      ],
      "text/plain": [
       "                  Open        High         Low       Close   Adj Close  \\\n",
       "Date                                                                     \n",
       "2021-06-01  165.869995  166.910004  165.479996  166.050003  164.109711   \n",
       "2021-06-02  167.259995  167.440002  165.529999  166.059998  164.119583   \n",
       "2021-06-03  165.410004  167.250000  164.660004  166.169998  164.228287   \n",
       "2021-06-04  166.210007  166.669998  165.029999  166.440002  164.495148   \n",
       "2021-06-07  167.000000  167.100006  165.139999  165.660004  163.724258   \n",
       "\n",
       "              Volume  \n",
       "Date                  \n",
       "2021-06-01   9445400  \n",
       "2021-06-02  10498600  \n",
       "2021-06-03  13354400  \n",
       "2021-06-04   8510800  \n",
       "2021-06-07   7267200  "
      ]
     },
     "execution_count": 79,
     "metadata": {},
     "output_type": "execute_result"
    }
   ],
   "source": [
    "JPM.head()"
   ]
  },
  {
   "cell_type": "code",
   "execution_count": 80,
   "metadata": {},
   "outputs": [],
   "source": [
    "def SMA(data, window, column):\n",
    "    return data[column].rolling(window=window).mean()\n",
    "JPM[\"SMA_20\"]=SMA(JPM,window=20, column=\"Close\")"
   ]
  },
  {
   "cell_type": "code",
   "execution_count": 81,
   "metadata": {},
   "outputs": [
    {
     "data": {
      "text/plain": [
       "Date\n",
       "2021-06-01    166.146667\n",
       "2021-06-02    166.343333\n",
       "2021-06-03    166.026667\n",
       "2021-06-04    166.046666\n",
       "2021-06-07    165.966670\n",
       "                 ...    \n",
       "2021-08-25    160.166667\n",
       "2021-08-26    162.243332\n",
       "2021-08-27    162.490000\n",
       "2021-08-30    161.270004\n",
       "2021-08-31    160.223333\n",
       "Length: 65, dtype: float64"
      ]
     },
     "execution_count": 81,
     "metadata": {},
     "output_type": "execute_result"
    }
   ],
   "source": [
    "(JPM[\"High\"]+JPM[\"Low\"]+JPM[\"Close\"])/3"
   ]
  },
  {
   "cell_type": "code",
   "execution_count": 82,
   "metadata": {},
   "outputs": [],
   "source": [
    "def CCI(data, window, SMA, High, Low, Close):\n",
    "    Pivot=(data[High]+data[Low]+data[Close])/3\n",
    "    MA=SMA#(MSFT,window=30, column=\"Adj Close\")\n",
    "    CCI=(Pivot-MA)/(0.015*(Pivot-MA.mean()))\n",
    "    data[\"CCI\"]=CCI\n",
    "    return data[\"CCI\"]\n",
    "    "
   ]
  },
  {
   "cell_type": "code",
   "execution_count": 83,
   "metadata": {},
   "outputs": [
    {
     "data": {
      "text/plain": [
       "Date\n",
       "2021-08-04     15.214145\n",
       "2021-08-05    -17.344035\n",
       "2021-08-06    119.233925\n",
       "2021-08-09    111.534091\n",
       "2021-08-10     94.594149\n",
       "2021-08-11     81.851472\n",
       "2021-08-12     76.756676\n",
       "2021-08-13     73.997367\n",
       "2021-08-16     67.938383\n",
       "2021-08-17     59.059743\n",
       "2021-08-18     51.052322\n",
       "2021-08-19    271.096253\n",
       "2021-08-20    311.623543\n",
       "2021-08-23     29.030991\n",
       "2021-08-24     38.413519\n",
       "2021-08-25     45.278259\n",
       "2021-08-26     47.242075\n",
       "2021-08-27     43.151361\n",
       "2021-08-30     34.378158\n",
       "2021-08-31     24.400025\n",
       "Name: CCI, dtype: float64"
      ]
     },
     "execution_count": 83,
     "metadata": {},
     "output_type": "execute_result"
    }
   ],
   "source": [
    "CCI(data=JPM, window=20, SMA= JPM[\"SMA_20\"], High=\"High\", Low=\"Low\", Close=\"Close\")[-20:]"
   ]
  },
  {
   "cell_type": "code",
   "execution_count": 84,
   "metadata": {},
   "outputs": [
    {
     "data": {
      "text/plain": [
       "(array([18779., 18793., 18809., 18823., 18840., 18854., 18871.]),\n",
       " [Text(0, 0, ''),\n",
       "  Text(0, 0, ''),\n",
       "  Text(0, 0, ''),\n",
       "  Text(0, 0, ''),\n",
       "  Text(0, 0, ''),\n",
       "  Text(0, 0, ''),\n",
       "  Text(0, 0, '')])"
      ]
     },
     "execution_count": 84,
     "metadata": {},
     "output_type": "execute_result"
    },
    {
     "data": {
      "text/plain": [
       "<Figure size 900x360 with 0 Axes>"
      ]
     },
     "metadata": {},
     "output_type": "display_data"
    },
    {
     "data": {
      "image/png": "[encoded data removed]",
      "text/plain": [
       "<Figure size 432x288 with 2 Axes>"
      ]
     },
     "metadata": {
      "needs_background": "light"
     },
     "output_type": "display_data"
    }
   ],
   "source": [
    "plt.figure(figsize=(12.5,5))\n",
    "fig,(ax1,ax2)=plt.subplots(nrows=2, sharex=True)\n",
    "plt.subplots_adjust(hspace=0)\n",
    "plt.title(\"CCI\")\n",
    "ax1.plot(JPM.index, JPM[\"Adj Close\"], color=\"skyblue\")\n",
    "ax2.plot(JPM.index, JPM[\"CCI\"], color=\"b\") \n",
    "ax2.axhline(100, color=\"r\")\n",
    "ax2.axhline(-100, color=\"r\")\n",
    "plt.xticks(rotation=60 )"
   ]
  }
 ],
 "metadata": {
  "kernelspec": {
   "display_name": "Python 3",
   "language": "python",
   "name": "python3"
  },
  "language_info": {
   "codemirror_mode": {
    "name": "ipython",
    "version": 3
   },
   "file_extension": ".py",
   "mimetype": "text/x-python",
   "name": "python",
   "nbconvert_exporter": "python",
   "pygments_lexer": "ipython3",
   "version": "3.8.5"
  }
 },
 "nbformat": 4,
 "nbformat_minor": 4
}
